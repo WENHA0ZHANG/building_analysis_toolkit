{
 "cells": [
  {
   "cell_type": "markdown",
   "id": "e788d997",
   "metadata": {},
   "source": [
    "# Session 2: Python Programming Basics\n",
    "## 1. Data Types\n",
    "### 1.1 Number and String\n",
    "The Number data type in Python encompasses multiple forms. The int type denotes whole numbers, while float represents numbers with decimal points. The bool type, a subset of int, takes two values: True or False. Complex numbers, utilized less frequently in general programming but essential in specific domains like signal processing, are represented by the complex type. Strings, on the other hand, are sequences of characters. "
   ]
  },
  {
   "cell_type": "code",
   "execution_count": 1,
   "id": "821004e3",
   "metadata": {},
   "outputs": [],
   "source": [
    "area = 5000   # Integer\n",
    "energy_consumption = 20000.5   # Float\n",
    "material = \"Concrete\"   # String\n",
    "daylighting = True   # Boolean\n",
    "w = 3+4j   # complex"
   ]
  },
  {
   "cell_type": "code",
   "execution_count": 2,
   "id": "0a85c429",
   "metadata": {},
   "outputs": [
    {
     "name": "stdout",
     "output_type": "stream",
     "text": [
      "<class 'int'>\n",
      "<class 'float'>\n",
      "<class 'str'>\n",
      "<class 'bool'>\n",
      "<class 'complex'>\n"
     ]
    }
   ],
   "source": [
    "# Use type() or print(type()) to check the data type\n",
    "\n",
    "print(type(area))\n",
    "print(type(energy_consumption))\n",
    "print(type(material))\n",
    "print(type(daylighting))\n",
    "print(type(w))"
   ]
  },
  {
   "cell_type": "markdown",
   "id": "0de4714a",
   "metadata": {},
   "source": [
    "### 1.1.1 Number Conversion \n",
    "#### From String to Float\n",
    "When numerical data is read from external files, it's often interpreted as strings. For example, when reading the total area of a building from a CSV file:"
   ]
  },
  {
   "cell_type": "code",
   "execution_count": 3,
   "id": "9ecec163",
   "metadata": {},
   "outputs": [],
   "source": [
    "area_str = \"1500.75\"  # Area read from the file\n",
    "total_area = float(area_str)  # Convert to floating-point type"
   ]
  },
  {
   "cell_type": "code",
   "execution_count": 4,
   "id": "0794793a",
   "metadata": {},
   "outputs": [
    {
     "name": "stdout",
     "output_type": "stream",
     "text": [
      "<class 'str'>\n",
      "<class 'float'>\n"
     ]
    }
   ],
   "source": [
    "print(type(area_str))\n",
    "print(type(total_area))"
   ]
  },
  {
   "cell_type": "markdown",
   "id": "79f45993",
   "metadata": {},
   "source": [
    "#### From Float to Integer\n",
    "When an integer value is desired, such as determining the number of HVAC units:\n"
   ]
  },
  {
   "cell_type": "code",
   "execution_count": 5,
   "id": "f307d498",
   "metadata": {},
   "outputs": [],
   "source": [
    "avg_units_float = 4.7  # Average HVAC units\n",
    "num_of_hvac_units = int(avg_units_float)  # Convert to integer type (results in 4)"
   ]
  },
  {
   "cell_type": "code",
   "execution_count": 6,
   "id": "83b61ff5",
   "metadata": {},
   "outputs": [
    {
     "name": "stdout",
     "output_type": "stream",
     "text": [
      "<class 'float'>\n",
      "Value: 4 Data type: <class 'int'>\n"
     ]
    }
   ],
   "source": [
    "print(type(avg_units_float))\n",
    "\n",
    "print(\"Value:\", num_of_hvac_units, \"Data type:\", type(num_of_hvac_units))"
   ]
  },
  {
   "cell_type": "markdown",
   "id": "4f0a5b0e",
   "metadata": {},
   "source": [
    "**Mini-exercise**"
   ]
  },
  {
   "cell_type": "code",
   "execution_count": 7,
   "id": "08b859bf",
   "metadata": {},
   "outputs": [
    {
     "data": {
      "text/plain": [
       "str"
      ]
     },
     "execution_count": 7,
     "metadata": {},
     "output_type": "execute_result"
    }
   ],
   "source": [
    "# Use str() to convert the data type from float to string\n",
    "\n",
    "area = 500.00\n",
    "area_str = str(area)\n",
    "type(area_str)"
   ]
  },
  {
   "cell_type": "markdown",
   "id": "ae8e73c4",
   "metadata": {},
   "source": [
    "### 1.2 Lists, Tuples, Sets, Dictionaries\n",
    "Python's built-in collection data types encompass Lists, Tuples, Sets, and Dictionaries.\n",
    "#### 1.2.1 List\n",
    "Used to store a series of related data, for instance, the names of floors in a building or floor areas."
   ]
  },
  {
   "cell_type": "code",
   "execution_count": 8,
   "id": "14b38103",
   "metadata": {},
   "outputs": [
    {
     "name": "stdout",
     "output_type": "stream",
     "text": [
      "<class 'list'>\n",
      "<class 'list'>\n"
     ]
    }
   ],
   "source": [
    "# List is created by square brackets, e.g. list = []\n",
    "\n",
    "floor_names = [\"Basement\", \"Ground Floor\", \"1st Floor\", \"2nd Floor\", \"3rd Floor\"]\n",
    "floor_areas = [500.5, 600.0, 300.25, 50.5, 49.5]  # Areas corresponding to each floor\n",
    "print(type(floor_names))\n",
    "print(type(floor_areas))"
   ]
  },
  {
   "cell_type": "markdown",
   "id": "70688f7c",
   "metadata": {},
   "source": [
    "#### List Operations"
   ]
  },
  {
   "cell_type": "code",
   "execution_count": 9,
   "id": "f3ccf385",
   "metadata": {},
   "outputs": [
    {
     "name": "stdout",
     "output_type": "stream",
     "text": [
      "[500.5, 600.0, 300.25, 450.75]\n",
      "[500.5, 300.25]\n",
      "[500.5, 300.25]\n"
     ]
    }
   ],
   "source": [
    "#Adding Data\n",
    "#Suppose you wish to add a new floor area for a building\n",
    "floor_areas = [500.5, 600.0, 300.25]\n",
    "floor_areas.append(450.75)  # Adding new floor area\n",
    "print(floor_areas)\n",
    "\n",
    "#Removing Data \n",
    "floor_areas = [500.5, 600.0, 300.25]\n",
    "floor_areas.remove(600.0)  # Removing specified floor area\n",
    "print(floor_areas)\n",
    "\n",
    "floor_areas = [500.5, 600.0, 300.25]\n",
    "floor_areas.remove(floor_areas[1])\n",
    "print(floor_areas)"
   ]
  },
  {
   "cell_type": "markdown",
   "id": "3f18cdee",
   "metadata": {},
   "source": [
    "**Mini-exercise**"
   ]
  },
  {
   "cell_type": "markdown",
   "id": "110af74d",
   "metadata": {},
   "source": [
    "Try to remove the second number in a list by using an index. **Note that Numerical indexes in Pyhton start at 0.**"
   ]
  },
  {
   "cell_type": "code",
   "execution_count": 10,
   "id": "5608e11a",
   "metadata": {},
   "outputs": [
    {
     "name": "stdout",
     "output_type": "stream",
     "text": [
      "[500.5, 300.25]\n"
     ]
    }
   ],
   "source": [
    "# Use the list[index] to select the second number in the list\n",
    "floor_areas = [500.5, 600.0, 300.25]\n",
    "\n",
    "floor_areas.remove(floor_areas[1])\n",
    "print(floor_areas)"
   ]
  },
  {
   "cell_type": "markdown",
   "id": "6408a34e",
   "metadata": {},
   "source": [
    "#### 1.2.2 Tuple\n",
    "For when you need to store a set of values that won't change, like the coordinates or directions of a building."
   ]
  },
  {
   "cell_type": "code",
   "execution_count": 11,
   "id": "aa08a3ad",
   "metadata": {},
   "outputs": [
    {
     "name": "stdout",
     "output_type": "stream",
     "text": [
      "<class 'tuple'>\n",
      "<class 'tuple'>\n"
     ]
    }
   ],
   "source": [
    "# Tuple is created by round brackets, e.g. tuple = ()\n",
    "\n",
    "building_coordinates = (34.0522, -118.2437)  # Latitude and longitude\n",
    "building_orientation = (\"North\", \"South\", \"East\", \"West\")\n",
    "print(type(building_coordinates))\n",
    "print(type(building_orientation))"
   ]
  },
  {
   "cell_type": "markdown",
   "id": "b97db602",
   "metadata": {},
   "source": [
    "#### 1.2.3 Set\n",
    "Useful for storing unique items. In the context of a building model, you might use a set to store unique materials used in the construction."
   ]
  },
  {
   "cell_type": "code",
   "execution_count": 12,
   "id": "0c0e3a0b",
   "metadata": {},
   "outputs": [
    {
     "name": "stdout",
     "output_type": "stream",
     "text": [
      "<class 'set'>\n"
     ]
    }
   ],
   "source": [
    "# Set is created by curly brackets, e.g. set = {}\n",
    "\n",
    "glazing = {\"Single Pane\", \"Double Pane\", \"Triple Pane\"}    # Set\n",
    "print(type(glazing))"
   ]
  },
  {
   "cell_type": "markdown",
   "id": "1a2e7d86",
   "metadata": {},
   "source": [
    "#### Set Operations"
   ]
  },
  {
   "cell_type": "code",
   "execution_count": 13,
   "id": "9c422ec5",
   "metadata": {},
   "outputs": [
    {
     "name": "stdout",
     "output_type": "stream",
     "text": [
      "{'steel', 'concrete', 'glass', 'brick'}\n"
     ]
    }
   ],
   "source": [
    "#Adding Elements\n",
    "#Suppose you have a set representing all materials used in the building and wish to add a new material:\n",
    "materials = {\"brick\", \"glass\", \"steel\"}\n",
    "materials.add(\"concrete\")  # Adding a new material\n",
    "print(materials)"
   ]
  },
  {
   "cell_type": "code",
   "execution_count": 14,
   "id": "6c1e467f",
   "metadata": {},
   "outputs": [
    {
     "name": "stdout",
     "output_type": "stream",
     "text": [
      "{'glass'}\n"
     ]
    }
   ],
   "source": [
    "#Finding Common Elements\n",
    "#If you have two buildings and wish to determine materials used in common:\n",
    "building1_materials = {\"brick\", \"glass\", \"steel\"}\n",
    "building2_materials = {\"glass\", \"concrete\", \"wood\"}\n",
    "common_materials = building1_materials.intersection(building2_materials)  # Results in {\"glass\"}\n",
    "print(common_materials)"
   ]
  },
  {
   "cell_type": "markdown",
   "id": "51136ed9",
   "metadata": {},
   "source": [
    "#### 1.2.4 Dictionarie\n",
    "Used to store a series of related key-value pairs, such as U-values for different types of windows."
   ]
  },
  {
   "cell_type": "code",
   "execution_count": 15,
   "id": "ea61c545",
   "metadata": {},
   "outputs": [
    {
     "name": "stdout",
     "output_type": "stream",
     "text": [
      "<class 'dict'>\n"
     ]
    }
   ],
   "source": [
    "# Dictionarie is created by using curly braces and defining key-value pairs, e.g. dictionarie = {\"key\": value}\n",
    "\n",
    "window_U_values = {\n",
    "    \"Single Pane\": 5.8,  # U-value for single-pane window\n",
    "    \"Double Pane\": 2.8,  # U-value for double-pane window\n",
    "    \"Triple Pane\": 0.6   # U-value for triple-pane window\n",
    "}\n",
    "print(type(window_U_values))"
   ]
  },
  {
   "cell_type": "markdown",
   "id": "dd6769aa",
   "metadata": {},
   "source": [
    "#### Dictionary Operations"
   ]
  },
  {
   "cell_type": "code",
   "execution_count": 16,
   "id": "8a005ac1",
   "metadata": {},
   "outputs": [
    {
     "name": "stdout",
     "output_type": "stream",
     "text": [
      "{'Single Pane': 5.8, 'Double Pane': 2.7}\n"
     ]
    }
   ],
   "source": [
    "#Updating Values\n",
    "#If you need to update the U-value for a window:\n",
    "window_U_values = {\n",
    "   \"Single Pane\": 5.8,\n",
    "   \"Double Pane\": 2.8\n",
    "}\n",
    "window_U_values[\"Double Pane\"] = 2.7  # Update U-value for the double-pane window\n",
    "print(window_U_values)"
   ]
  },
  {
   "cell_type": "code",
   "execution_count": 17,
   "id": "be1b3f90",
   "metadata": {},
   "outputs": [
    {
     "name": "stdout",
     "output_type": "stream",
     "text": [
      "{'Single Pane': 5.8, 'Double Pane': 2.7, 'Tinted Glass': 3.1}\n"
     ]
    }
   ],
   "source": [
    "#Adding Key-Value Pair\n",
    "#If you want to add a new type of window and its U-value:\n",
    "window_U_values[\"Tinted Glass\"] = 3.1  # Adding U-value for a new type of window\n",
    "print(window_U_values)"
   ]
  },
  {
   "cell_type": "markdown",
   "id": "72e01287",
   "metadata": {},
   "source": [
    "## 2. ‘if-elif-else’ Decision Constructs\n",
    "The if-elif-else constructs are essential control structures that facilitate decision-making within programs. The construct evaluates conditions sequentially: starting with if, followed by one or more elif (else-if) checks, and finally, an else catch-all at the end. Only the block of code corresponding to the first true condition gets executed. "
   ]
  },
  {
   "cell_type": "code",
   "execution_count": 18,
   "id": "d3001a35",
   "metadata": {},
   "outputs": [
    {
     "name": "stdout",
     "output_type": "stream",
     "text": [
      "The temperature is within the comfort range.\n"
     ]
    }
   ],
   "source": [
    "# Given indoor temperature value\n",
    "temperature = 23.5  # This can be changed to any other value to test the code\n",
    "\n",
    "if 22 <= temperature <= 24:\n",
    "    print(\"The temperature is within the comfort range.\")\n",
    "elif temperature < 22:\n",
    "    print(\"The temperature is too cold.\")\n",
    "else:\n",
    "    print(\"The temperature is too hot.\")\n"
   ]
  },
  {
   "cell_type": "markdown",
   "id": "e1d59d8b",
   "metadata": {},
   "source": [
    "## 3. Loop\n",
    "In terms of algorithms and programming, loops serve as foundational constructs to enable repeated execution of code based on certain conditions. Python provides several types of loops to accommodate various programming needs. The primary types are the ‘for’ loop, which is used for iterating over sequences, the ‘while’ loop that executes as long as a condition is satisfied.\n",
    "### 3.1 ‘for’ loop\n",
    "The 'for' loop in Python provides a mechanism to iterate over sequences. This includes common data structures such as lists, tuples, and strings. In the context of the for loop, we utilize an iterator variable, which takes on the value of each element in the sequence, one by one, until the entire sequence has been traversed."
   ]
  },
  {
   "cell_type": "code",
   "execution_count": 19,
   "id": "d04dfd82",
   "metadata": {},
   "outputs": [
    {
     "name": "stdout",
     "output_type": "stream",
     "text": [
      "Total energy consumption for the day: 836.8 kWh\n"
     ]
    }
   ],
   "source": [
    "# Energy consumption for each floor in kWh (for a specific day).\n",
    "energy_consumption_by_floor = {\n",
    "    \"Basement\": 120.5,\n",
    "    \"Ground Floor\": 200.0,\n",
    "    \"1st Floor\": 185.2,\n",
    "    \"2nd Floor\": 170.3,\n",
    "    \"3rd Floor\": 160.8\n",
    "}\n",
    "\n",
    "# Calculate the total energy consumption.\n",
    "total_energy_consumption = 0\n",
    "for floor, consumption in energy_consumption_by_floor.items():\n",
    "    total_energy_consumption += consumption\n",
    "\n",
    "print(f\"Total energy consumption for the day: {total_energy_consumption} kWh\")"
   ]
  },
  {
   "cell_type": "markdown",
   "id": "1bd15a4a",
   "metadata": {},
   "source": [
    "### 3.2 'while' loop\n",
    "The while loop presents a different loop paradigm, wherein the loop continues its execution as long as the stipulated condition remains true. It's imperative to ensure that the condition changes over the course of the loop's execution to prevent infinite loops."
   ]
  },
  {
   "cell_type": "code",
   "execution_count": 20,
   "id": "a8480160",
   "metadata": {},
   "outputs": [
    {
     "name": "stdout",
     "output_type": "stream",
     "text": [
      "The number of times the temperature exceeded 22 degrees during the week: 19\n"
     ]
    }
   ],
   "source": [
    "temperatures = {\n",
    "    'Monday': [22, 21.5, 23, 24, 23.5, 22, 21],\n",
    "    'Tuesday': [21, 21, 22, 23, 23, 22.5, 21.5],\n",
    "    'Wednesday': [20, 20.5, 21, 23, 24, 23, 22],\n",
    "    'Thursday': [23, 23, 22.5, 24, 24.5, 23.5, 22.5],\n",
    "    'Friday': [24, 23.5, 23, 22, 21.5, 21, 21],\n",
    "    'Saturday': [20, 20, 20, 21, 22, 21.5, 20.5],\n",
    "    'Sunday': [19, 19.5, 20, 21, 21, 20.5, 19.5]\n",
    "}\n",
    "\n",
    "count_over_22 = 0\n",
    "days = list(temperatures.keys())\n",
    "\n",
    "i = 0\n",
    "while i < len(days):\n",
    "    day_temps = temperatures[days[i]]\n",
    "    for temp in day_temps:\n",
    "        if temp > 22:\n",
    "            count_over_22 += 1\n",
    "    i += 1\n",
    "\n",
    "print(f\"The number of times the temperature exceeded 22 degrees during the week: {count_over_22}\")\n"
   ]
  },
  {
   "cell_type": "markdown",
   "id": "804c2aaa",
   "metadata": {},
   "source": [
    "## 4. Object-oriented programming Concepts\n",
    "Object-oriented programming (OOP) in Python is a programming paradigm centered around \"objects\", which are instances of \"classes\". Classes serve as blueprints for objects and encapsulate data (attributes) and functions (methods) that operate on the data. Functions in OOP, when defined within a class, are termed \"methods\". \n",
    "### 4.1 Function\n",
    "A function in Python is a block of organized, reusable code that performs a specific task. It allows parameterized input, processes it, and optionally returns an output. Functions enhance modularity and code reusability. "
   ]
  },
  {
   "cell_type": "markdown",
   "id": "f0680f79",
   "metadata": {},
   "source": [
    "### 4.2 Classes & Method\n",
    "A class is a blueprint for creating objects, encapsulating data and functions operating on that data. A method is a function defined within a class, designed to perform operations on attributes or handle behavior related to the object created from that class. "
   ]
  },
  {
   "cell_type": "markdown",
   "id": "180a9faa",
   "metadata": {},
   "source": [
    "### 4.3 Modules\n",
    "A module is a file containing Python definitions and statements, which can encompass functions, classes, or variables. Leveraging modules enhances code readability, reusability, and namespaces. "
   ]
  },
  {
   "cell_type": "code",
   "execution_count": 21,
   "id": "869e9d7a",
   "metadata": {},
   "outputs": [
    {
     "name": "stdout",
     "output_type": "stream",
     "text": [
      "The area of the circular window with radius 0.5 meters is 0.79 square meters.\n"
     ]
    }
   ],
   "source": [
    "#Module\n",
    "import math\n",
    "\n",
    "def circular_window_area(radius):\n",
    "    \"\"\"\n",
    "    Calculate and return the area of a circular window.\n",
    "\n",
    "    Parameters:\n",
    "    - radius: The radius of the circular window.\n",
    "\n",
    "    Returns:\n",
    "    - The area of the circular window.\n",
    "    \"\"\"\n",
    "    return math.pi * math.pow(radius, 2)\n",
    "\n",
    "# Example usage:\n",
    "radius = 0.5  # in meters\n",
    "area = circular_window_area(radius)\n",
    "print(f\"The area of the circular window with radius {radius} meters is {area:.2f} square meters.\")\n"
   ]
  },
  {
   "cell_type": "markdown",
   "id": "b0f3701a",
   "metadata": {},
   "source": [
    "## 5. Hands-on Practice\n",
    "### 5.1 Practice 1\n",
    "You've been given room temperature data for a week in a building and system sizing data for its HVAC equipment.\n",
    "a. Calculate the average temperature for each day.\n",
    "b. Identify days where the maximum temperature exceeded 23°C.\n",
    "c. Calculate the total area and the sum of design loads from the system sizing data.\n",
    "d. Define a function that, given a temperature list, will return the count of temperatures above a given threshold.\n",
    "#### Input Data"
   ]
  },
  {
   "cell_type": "code",
   "execution_count": 22,
   "id": "c9939b3f",
   "metadata": {},
   "outputs": [],
   "source": [
    "# Room temperatures for a week (in degrees Celsius)\n",
    "temperatures = {\n",
    "    'Monday': [20, 21, 21, 21, 21, 22, 23, 25, 26, 27, 27, 26, 25, 24, 24, 24, 25, 26, 27, 27, 26, 25, 24, 23],\n",
    "    'Tuesday': [19, 19, 19, 20, 20, 21, 23, 25, 26, 26, 25, 25, 24, 24, 24, 23, 24, 25, 26, 25, 24, 23, 23, 22],\n",
    "    'Wednesday': [20, 20.5, 21, 24, 24.5, 23.5, 23, 24, 23, 22,23, 23, 22.5, 24, 24.5, 23.5, 22.5,24, 23.5, 23, 22, 21.5, 21, 21],\n",
    "    'Thursday': [24, 23.5, 23, 22,21.5,19, 19.5, 20, 21, 21, 20.5, 21.5,24, 23.5, 23, 22, 21.5,23, 23, 22.5, 24, 24.5, 23.5, 22.5],\n",
    "    'Friday': [24, 23.5, 23, 22, 21.5,19, 19.5, 20, 21, 21, 20.5,21.5,24, 23.5, 23, 22, 21.5,24, 23.5, 23, 22, 21.5, 21, 21],\n",
    "    'Saturday': [21.5,19, 19.5, 20, 21, 21, 20.5,24, 23.5, 23, 22, 21.5,24, 23.5, 23, 22, 21.5,20, 20, 20, 21, 22, 21.5, 20.5],\n",
    "    'Sunday': [21.5,19, 19.5, 20, 21, 21, 20.5,24, 23.5, 23, 22, 21.5,24, 23.5, 23, 22, 21.5,19, 19.5, 20, 21, 21, 20.5, 19.5]\n",
    "}\n",
    "\n",
    "# HVAC system sizing (Area in square meters, Design load in kW)\n",
    "system_sizing = {\n",
    "    'Living Room': {'Area': 50, 'Design Load': 5},\n",
    "    'Bedroom 1': {'Area': 25, 'Design Load': 2.5},\n",
    "    'Bedroom 2': {'Area': 30, 'Design Load': 3},\n",
    "    'Kitchen': {'Area': 15, 'Design Load': 3.5}\n",
    "}\n"
   ]
  },
  {
   "cell_type": "markdown",
   "id": "c55204e9",
   "metadata": {},
   "source": [
    "#### Solution:"
   ]
  },
  {
   "cell_type": "code",
   "execution_count": 23,
   "id": "a0c0055d",
   "metadata": {},
   "outputs": [
    {
     "name": "stdout",
     "output_type": "stream",
     "text": [
      "a: Average temperature on Sunday: 21.29°C\n",
      "b: Monday had temperatures exceeding 23°C.\n",
      "b: Tuesday had temperatures exceeding 23°C.\n",
      "b: Wednesday had temperatures exceeding 23°C.\n",
      "b: Thursday had temperatures exceeding 23°C.\n",
      "c_1: Total Area: 120 square meters\n",
      "c_2: Total Design Load: 14.0 kW\n",
      "d: Thursday had 13 hours above 22°C.\n"
     ]
    }
   ],
   "source": [
    "#a. Average Temperature Calculation:\n",
    "for day, temps in temperatures.items():\n",
    "    avg_temp = sum(temps) / len(temps)\n",
    "print(f\"a: Average temperature on {day}: {avg_temp:.2f}°C\")\n",
    "\n",
    "#b. Identifying Hot Days:\n",
    "for day, temps in temperatures.items():\n",
    "    if max(temps) > 24:\n",
    "        print(f\"b: {day} had temperatures exceeding 23°C.\")\n",
    "\n",
    "#c. Total Area and Design Load Calculation:\n",
    "total_area = sum([room['Area'] for room in system_sizing.values()])\n",
    "total_load = sum([room['Design Load'] for room in system_sizing.values()])\n",
    "\n",
    "print(f\"c_1: Total Area: {total_area} square meters\")\n",
    "print(f\"c_2: Total Design Load: {total_load} kW\")\n",
    "\n",
    "#d. Function for Counting Temperatures Above a Threshold:\n",
    "def count_above_threshold(temp_list, threshold):\n",
    "    return len([temp for temp in temp_list if temp > threshold])\n",
    "\n",
    "# Example usage:\n",
    "thursday_above_22 = count_above_threshold(temperatures['Thursday'], 22)\n",
    "print(f\"d: Thursday had {thursday_above_22} hours above 22°C.\")\n"
   ]
  },
  {
   "cell_type": "markdown",
   "id": "799bfd73",
   "metadata": {},
   "source": [
    "### 5.2 Practice 2\n",
    "The Heat Transfer Coefficient (HTC) represents the amount of heat that transfers through a building component per unit area for a given temperature difference. It's usually expressed in $W/m^2⋅K$ and can be calculated using the formula:\n",
    "\n",
    "**$HTC = U  value × Net  Area$**\n",
    "\n",
    "Your task is to determine the overall Heat Transfer Coefficient (HTC) of the building. By using Python, read the provided CSV data file, and compute the HTC by considering the product of the U-factor and the net area for each building component.\n",
    "#### Solution:"
   ]
  },
  {
   "cell_type": "code",
   "execution_count": 24,
   "id": "3aabd933",
   "metadata": {},
   "outputs": [
    {
     "name": "stdout",
     "output_type": "stream",
     "text": [
      "Total heat transfer coefficient is 972.0027100000001 W/K\n"
     ]
    }
   ],
   "source": [
    "import csv\n",
    "\n",
    "def calculate_total_htc(csv_file):\n",
    "    total_htc = 0\n",
    "    with open(csv_file, 'r', encoding='utf-8') as file:\n",
    "        reader = csv.DictReader(file)\n",
    "        for row in reader:\n",
    "            total_htc += float(row['U-Factor with Film [W/m2-K]']) * float(row['Net Area [m2]'])\n",
    "    return total_htc\n",
    "print(\"Total heat transfer coefficient is\", calculate_total_htc('raw_data.csv'), \"W/K\")"
   ]
  },
  {
   "cell_type": "code",
   "execution_count": null,
   "id": "bbce52cd",
   "metadata": {},
   "outputs": [],
   "source": []
  }
 ],
 "metadata": {
  "kernelspec": {
   "display_name": "Python 3 (ipykernel)",
   "language": "python",
   "name": "python3"
  },
  "language_info": {
   "codemirror_mode": {
    "name": "ipython",
    "version": 3
   },
   "file_extension": ".py",
   "mimetype": "text/x-python",
   "name": "python",
   "nbconvert_exporter": "python",
   "pygments_lexer": "ipython3",
   "version": "3.7.12"
  }
 },
 "nbformat": 4,
 "nbformat_minor": 5
}
